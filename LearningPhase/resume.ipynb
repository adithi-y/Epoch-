{
  "cells": [
    {
      "cell_type": "markdown",
      "metadata": {
        "id": "JiBAYMOuXo66"
      },
      "source": [
        "# Importing Libraries"
      ]
    },
    {
      "cell_type": "code",
      "execution_count": null,
      "metadata": {
        "id": "fDr6gq9svr1t"
      },
      "outputs": [],
      "source": [
        "import numpy as np\n",
        "import pandas as pd\n",
        "import re\n",
        "from sklearn.preprocessing import LabelEncoder\n",
        "from sklearn.feature_extraction.text import TfidfVectorizer\n",
        "from sklearn.model_selection import train_test_split\n",
        "import spacy\n",
        "from sklearn.metrics.pairwise import cosine_similarity\n",
        "from sklearn.metrics import confusion_matrix\n",
        "import seaborn as sns\n",
        "from sklearn.utils.class_weight import compute_class_weight\n",
        "import matplotlib.pyplot as plt\n",
        "from sklearn.decomposition import PCA\n",
        "from sklearn.metrics import accuracy_score, precision_score, recall_score, f1_score, precision_recall_curve\n",
        "import tensorflow as tf\n",
        "from tensorflow.keras import layers, models, Input\n",
        "from sklearn.linear_model import LogisticRegression\n",
        "from xgboost import XGBClassifier"
      ]
    },
    {
      "cell_type": "markdown",
      "metadata": {
        "id": "BbOrZeTFX0SH"
      },
      "source": [
        "# Preprocessing"
      ]
    },
    {
      "cell_type": "markdown",
      "metadata": {
        "id": "w00d76XYX4iN"
      },
      "source": [
        "1.   Loading dataset\n",
        "2.   Dropping duplicates\n",
        "3.   Viewing dataset summary"
      ]
    },
    {
      "cell_type": "code",
      "execution_count": null,
      "metadata": {
        "id": "RPz1Ng6uwIHn"
      },
      "outputs": [],
      "source": [
        "df = pd.read_csv('UpdatedResumeDataSet.csv',encoding='utf-8')\n",
        "df.drop_duplicates()\n",
        "df.describe().T"
      ]
    },
    {
      "cell_type": "markdown",
      "metadata": {
        "id": "gPE1CV_cYXcu"
      },
      "source": [
        "**Increasing some class sizes to ensure balanced dataset**"
      ]
    },
    {
      "cell_type": "code",
      "execution_count": null,
      "metadata": {
        "id": "3jr2hsDcwMKp"
      },
      "outputs": [],
      "source": [
        "maxsize = df['Category'].value_counts().max()\n",
        "balanced_df = df.groupby('Category').apply(lambda x: x.sample(maxsize, replace=True)).reset_index(drop=True)\n",
        "df = balanced_df.sample(frac=1).reset_index(drop=True)"
      ]
    },
    {
      "cell_type": "markdown",
      "metadata": {
        "id": "SkS0xSIXYmyr"
      },
      "source": [
        "**Cleaning Text by:**\n",
        "1.   Removing URL's\n",
        "2.   Removing hashtags\n",
        "3.   Removing emails\n",
        "4.   Removing punctation and non ASCII characters\n",
        "5.   Using spaCy to lemmatize text\n",
        "6.   Removing stop words, whitespaces and punctuattion\n",
        "7.   Joining rest of the token into a single string"
      ]
    },
    {
      "cell_type": "code",
      "execution_count": null,
      "metadata": {
        "id": "a2dcBgNIwM6t"
      },
      "outputs": [],
      "source": [
        "nlp = spacy.load(\"en_core_web_sm\")\n",
        "\n",
        "def cleanresume(txt):\n",
        "    cleantext = re.sub(r'http\\S+\\s?', ' ', txt)\n",
        "    cleantext = re.sub(r'RT|cc', ' ', cleantext)\n",
        "    cleantext = re.sub(r'#\\S+\\s?', ' ', cleantext)\n",
        "    cleantext = re.sub(r'@\\S+', ' ', cleantext)\n",
        "    cleantext = re.sub(r'[%s]' % re.escape(\"\"\"!\"#$%&'()*+,-./:;<=>?@[\\]^_`{|}~\"\"\"), ' ', cleantext)\n",
        "    cleantext = re.sub(r'\\S+@\\S+', ' ', cleantext)\n",
        "    cleantext = re.sub(r'[^\\x00-\\x7f]', ' ', cleantext)\n",
        "    cleantext = re.sub(r'\\s+', ' ', cleantext)\n",
        "    cleantext = cleantext.strip().lower()\n",
        "    doc = nlp(cleantext)\n",
        "    tokens = [token.lemma_ for token in doc if not token.is_stop and not token.is_punct and not token.is_space]\n",
        "    cleantext = ' '.join(tokens)\n",
        "    return cleantext\n",
        "\n",
        "df['Resume'] = df['Resume'].apply(cleanresume)\n",
        "print(df['Resume'].head)"
      ]
    },
    {
      "cell_type": "markdown",
      "metadata": {
        "id": "qSqOnXQ_agCG"
      },
      "source": [
        "# Extracting tabular Data"
      ]
    },
    {
      "cell_type": "markdown",
      "metadata": {
        "id": "vQQglErAZyTg"
      },
      "source": [
        "**Generating the Tabular data for Multimodal approach**\n",
        "\n",
        "\n",
        "1.   Extracts degree if it sees keywords\n",
        "2.   Extracts years of experience\n",
        "3.   Extracts 'skills', separates hard skills(100% weight) and soft skills (20% weight)\n",
        "\n"
      ]
    },
    {
      "cell_type": "code",
      "execution_count": null,
      "metadata": {
        "id": "QiwXSk6OwPCe"
      },
      "outputs": [],
      "source": [
        "def extractfeatures(df):\n",
        "    df['experience'] = df['Resume'].str.extract(r'(\\d+)\\s+years?', expand=False).fillna(0).astype(int)\n",
        "\n",
        "    def get_degree(text):\n",
        "        text = text.lower()\n",
        "        if 'phd' in text or 'doctorate' in text:\n",
        "            return 3\n",
        "        elif 'master' in text or 'msc' in text:\n",
        "            return 2\n",
        "        elif 'bachelor' in text or 'bsc' in text:\n",
        "            return 1\n",
        "        return 0\n",
        "    df['degree'] = df['Resume'].apply(get_degree)\n",
        "\n",
        "    hard_skills = [\n",
        "        'python', 'java', 'c++', 'sql', 'javascript', 'html', 'css',\n",
        "        'aws', 'azure', 'docker', 'kubernetes', 'linux', 'ubuntu',\n",
        "        'tensorflow', 'pytorch', 'machine learning', 'deep learning',\n",
        "        'data analysis', 'nlp', 'excel', 'power bi', 'tableau',\n",
        "        'git', 'bash', 'google analytics'\n",
        "    ]\n",
        "\n",
        "    soft_skills = [\n",
        "        'communication', 'leadership', 'teamwork', 'adaptability',\n",
        "        'problem solving', 'critical thinking', 'time management',\n",
        "        'creativity', 'attention to detail', 'interpersonal skills', 'presentation', 'strategizing', 'marketing'\n",
        "    ]\n",
        "\n",
        "\n",
        "    def count_skills(text):\n",
        "        text = text.lower()\n",
        "        hard_count = sum(skill in text for skill in hard_skills)\n",
        "        soft_count = sum(skill in text for skill in soft_skills) * 0.2\n",
        "        return hard_count + soft_count\n",
        "\n",
        "    df['skills'] = df['Resume'].apply(count_skills)\n",
        "    return df\n",
        "\n",
        "df = extractfeatures(df)\n",
        "df.head()\n",
        "df.tail()"
      ]
    },
    {
      "cell_type": "markdown",
      "metadata": {
        "id": "r0b0KMGHadzn"
      },
      "source": [
        "# Generating Synthetic Labels\n",
        "\n",
        "\n",
        "\n",
        "1.   Creating a hypothetical job description\n",
        "2.   Checking semantic similarity (cosine similarity) of the resume text to the job description and labelling based on that\n",
        "\n"
      ]
    },
    {
      "cell_type": "code",
      "execution_count": null,
      "metadata": {
        "id": "TKL6GSj6wRla"
      },
      "outputs": [],
      "source": [
        "jobdescription = \"\"\"\n",
        "We're hiring a Machine Learning Engineer with:\n",
        "- 3+ years experience in Python and ML\n",
        "- Master's or PhD in Computer Science\n",
        "- Expertise in deep learning frameworks (TensorFlow/)\n",
        "- Strong NLP and data analysis skills\n",
        "- some soft skills like communication\n",
        "\"\"\"\n",
        "cleanedjd = cleanresume(jobdescription)\n",
        "\n",
        "def generatelabels(df, jd) :\n",
        "    corpus = df['Resume'].to_list() + [jd]\n",
        "    vectorizer = TfidfVectorizer()\n",
        "    tfidfmatrix = vectorizer.fit_transform(corpus)\n",
        "    similarities = cosine_similarity(tfidfmatrix[-1], tfidfmatrix[:-1])[0]\n",
        "    threshold = np.quantile(similarities, 0.7)\n",
        "    return (similarities>=threshold).astype(int)\n",
        "\n",
        "df['shortlisted'] = generatelabels(df, cleanedjd)\n",
        "df.head()\n",
        "df['shortlisted'].value_counts()"
      ]
    },
    {
      "cell_type": "markdown",
      "metadata": {
        "id": "YofPAxUQbDJg"
      },
      "source": [
        "# Generating vector embeddings for the text"
      ]
    },
    {
      "cell_type": "code",
      "execution_count": null,
      "metadata": {
        "id": "nqdCq22wNXeE"
      },
      "outputs": [],
      "source": [
        "vectorizer = TfidfVectorizer()\n",
        "tfidfmatrix = vectorizer.fit_transform(df['Resume'])\n",
        "embeddings_array = tfidfmatrix.toarray()\n",
        "# df['embeddings'] = [row for row in embeddings_array]\n",
        "\n",
        "print(embeddings_array.shape)"
      ]
    },
    {
      "cell_type": "code",
      "execution_count": null,
      "metadata": {
        "collapsed": true,
        "id": "f9_tG6YEwUD2"
      },
      "outputs": [],
      "source": [
        "df = df.loc[:, ~df.columns.str.startswith('pca_')]\n",
        "pca = PCA(n_components=0.95)\n",
        "reducedembeddings = pca.fit_transform(embeddings_array)\n",
        "\n",
        "pcadf = pd.DataFrame(reducedembeddings, columns=[f'pca_{i+1}' for i in range(reducedembeddings.shape[1])])\n",
        "df = pd.concat([df.reset_index(drop=True), pcadf.reset_index(drop=True)], axis=1)\n",
        "# df.drop(columns=['embedding', 'embeddings', 'tfidf_vector'], inplace=True)\n",
        "df.head()"
      ]
    },
    {
      "cell_type": "code",
      "execution_count": 42,
      "metadata": {
        "id": "U6xrYJ-7NdAH"
      },
      "outputs": [],
      "source": [
        "x = df.iloc[:,7:]\n",
        "y = df['shortlisted']\n",
        "# xtrain, xtest, ytrain, ytest = train_test_split(x, y, test_size=0.3)\n",
        "# xtraincnn = xtrain.values.reshape(-1, 134, 1)\n",
        "# xtestcnn = xtest.values.reshape(-1, 134, 1)\n",
        "xtab = df.iloc[:,2:5]\n",
        "# xtraintab, xtesttab = train_test_split(x, test_size=0.3)"
      ]
    },
    {
      "cell_type": "code",
      "execution_count": 43,
      "metadata": {
        "id": "VdG4gSBYxodo"
      },
      "outputs": [],
      "source": [
        "indices = np.arange(len(x))\n",
        "train_idx, test_idx = train_test_split(indices, test_size=0.3, random_state=42)\n",
        "\n",
        "xtraincnn = x.iloc[train_idx].values.reshape(-1, 134, 1)\n",
        "xtestcnn = x.iloc[test_idx].values.reshape(-1, 134, 1)\n",
        "\n",
        "xtraintab = xtab.iloc[train_idx].values\n",
        "xtesttab = xtab.iloc[test_idx].values\n",
        "\n",
        "ytrain = y.iloc[train_idx]\n",
        "ytest = y.iloc[test_idx]"
      ]
    },
    {
      "cell_type": "code",
      "execution_count": 44,
      "metadata": {
        "collapsed": true,
        "id": "mDfsX6tG29wo"
      },
      "outputs": [],
      "source": [
        "tabular_input = Input(shape=(xtraintab.shape[1],))  # Match input shape to number of features\n",
        "ycnn = layers.Dense(64, activation='relu')(tabular_input)\n",
        "ycnn = layers.Dense(32, activation='relu')(ycnn)"
      ]
    },
    {
      "cell_type": "code",
      "execution_count": null,
      "metadata": {
        "id": "C1qp0UV4N0vJ"
      },
      "outputs": [],
      "source": [
        "input_layer = layers.Input(shape=(134, 1))"
      ]
    },
    {
      "cell_type": "code",
      "execution_count": 47,
      "metadata": {
        "id": "p0vXGB6CxYhB"
      },
      "outputs": [],
      "source": [
        "class SafeAttention(layers.Layer):\n",
        "    def __init__(self, **kwargs):\n",
        "        super().__init__(**kwargs)\n",
        "\n",
        "    def build(self, input_shape):\n",
        "        super().build(input_shape)\n",
        "\n",
        "    def call(self, inputs):\n",
        "        query, value = inputs\n",
        "        # Compute attention scores\n",
        "        scores = tf.matmul(query, value, transpose_b=True)\n",
        "\n",
        "        # Only apply softmax if dimension > 1\n",
        "        dim = tf.shape(scores)[-1]\n",
        "        scores = tf.cond(\n",
        "            tf.greater(dim, 1),\n",
        "            lambda: tf.nn.softmax(scores, axis=-1),\n",
        "            lambda: scores / (tf.reduce_sum(scores, axis=-1, keepdims=True) + 1e-8)\n",
        "        )\n",
        "\n",
        "        return tf.matmul(scores, value)\n",
        "\n",
        "    def compute_output_shape(self, input_shape):\n",
        "        # Correct output shape calculation\n",
        "        query_shape, value_shape = input_shape\n",
        "        return (query_shape[0], query_shape[1], value_shape[2])"
      ]
    },
    {
      "cell_type": "code",
      "execution_count": null,
      "metadata": {
        "id": "xhzk1pNJpYtJ"
      },
      "outputs": [],
      "source": [
        "text_features = layers.Dense(64)(input_layer)\n",
        "tabular_features = layers.Dense(64)(tabular_input)\n",
        "tabular_features = layers.Reshape((1, 64))(tabular_features)\n",
        "\n",
        "attention_output = SafeAttention()([text_features, tabular_features])\n",
        "combined = layers.Concatenate()([text_features, attention_output])\n",
        "z = layers.GlobalAveragePooling1D()(combined)\n",
        "z = layers.Dense(32, activation='relu')(z)"
      ]
    },
    {
      "cell_type": "code",
      "execution_count": null,
      "metadata": {
        "id": "xtioUGG1qJAE"
      },
      "outputs": [],
      "source": [
        "final_output = layers.Dense(1, activation='sigmoid')(z)"
      ]
    },
    {
      "cell_type": "code",
      "execution_count": 50,
      "metadata": {
        "id": "RotBojFyrWDN"
      },
      "outputs": [],
      "source": [
        "loss = tf.keras.losses.BinaryFocalCrossentropy(\n",
        "    apply_class_balancing=True,\n",
        "    alpha=0.2,\n",
        "    gamma=3.0,\n",
        "    from_logits=False\n",
        ")\n",
        "\n",
        "metrics = [\n",
        "    'accuracy',\n",
        "    tf.keras.metrics.Precision(name='precision'),\n",
        "    tf.keras.metrics.Recall(name='recall')\n",
        "]\n",
        "\n",
        "callbacks = [\n",
        "    tf.keras.callbacks.EarlyStopping(\n",
        "        monitor='val_precision',\n",
        "        patience=5,\n",
        "        mode='max',\n",
        "        restore_best_weights=True\n",
        "    ),\n",
        "    tf.keras.callbacks.ModelCheckpoint(\n",
        "        filepath='best_model.h5',\n",
        "        monitor='val_precision',\n",
        "        save_best_only=True,\n",
        "        mode='max'\n",
        "    )\n",
        "]\n",
        "\n",
        "\n",
        "class_weights = {0: 1, 1: 3}"
      ]
    },
    {
      "cell_type": "code",
      "execution_count": 51,
      "metadata": {
        "colab": {
          "base_uri": "https://localhost:8080/"
        },
        "collapsed": true,
        "id": "02Djnwer7mUk",
        "outputId": "be3d4b98-23e5-4639-df14-154bbee7d784"
      },
      "outputs": [
        {
          "name": "stdout",
          "output_type": "stream",
          "text": [
            "Epoch 1/10\n",
            "\u001b[1m22/22\u001b[0m \u001b[32m━━━━━━━━━━━━━━━━━━━━\u001b[0m\u001b[37m\u001b[0m \u001b[1m3s\u001b[0m 7ms/step - accuracy: 0.6154 - loss: 0.2648 - precision: 0.4042 - recall: 0.4907\n",
            "Epoch 2/10\n",
            "\u001b[1m17/22\u001b[0m \u001b[32m━━━━━━━━━━━━━━━\u001b[0m\u001b[37m━━━━━\u001b[0m \u001b[1m0s\u001b[0m 7ms/step - accuracy: 0.6908 - loss: 0.1134 - precision: 0.5740 - recall: 0.0760"
          ]
        },
        {
          "name": "stderr",
          "output_type": "stream",
          "text": [
            "/usr/local/lib/python3.11/dist-packages/keras/src/callbacks/early_stopping.py:153: UserWarning: Early stopping conditioned on metric `val_precision` which is not available. Available metrics are: accuracy,loss,precision,recall\n",
            "  current = self.get_monitor_value(logs)\n",
            "/usr/local/lib/python3.11/dist-packages/keras/src/callbacks/model_checkpoint.py:209: UserWarning: Can save best model only with val_precision available, skipping.\n",
            "  self._save_model(epoch=epoch, batch=None, logs=logs)\n"
          ]
        },
        {
          "name": "stdout",
          "output_type": "stream",
          "text": [
            "\b\b\b\b\b\b\b\b\b\b\b\b\b\b\b\b\b\b\b\b\b\b\b\b\b\b\b\b\b\b\b\b\b\b\b\b\b\b\b\b\b\b\b\b\b\b\b\b\b\b\b\b\b\b\b\b\b\b\b\b\b\b\b\b\b\b\b\b\b\b\b\b\b\b\b\b\b\b\b\b\b\b\b\b\b\b\b\b\b\b\b\b\b\b\b\b\b\b\b\b\b\b\b\b\b\b\b\b\b\r\u001b[1m22/22\u001b[0m \u001b[32m━━━━━━━━━━━━━━━━━━━━\u001b[0m\u001b[37m\u001b[0m \u001b[1m0s\u001b[0m 8ms/step - accuracy: 0.6958 - loss: 0.1081 - precision: 0.5912 - recall: 0.0779\n",
            "Epoch 3/10\n",
            "\u001b[1m22/22\u001b[0m \u001b[32m━━━━━━━━━━━━━━━━━━━━\u001b[0m\u001b[37m\u001b[0m \u001b[1m0s\u001b[0m 8ms/step - accuracy: 0.7049 - loss: 0.1311 - precision: 0.5343 - recall: 0.0964\n",
            "Epoch 4/10\n",
            "\u001b[1m22/22\u001b[0m \u001b[32m━━━━━━━━━━━━━━━━━━━━\u001b[0m\u001b[37m\u001b[0m \u001b[1m0s\u001b[0m 7ms/step - accuracy: 0.6827 - loss: 0.0797 - precision: 0.2585 - recall: 0.0284\n",
            "Epoch 5/10\n",
            "\u001b[1m22/22\u001b[0m \u001b[32m━━━━━━━━━━━━━━━━━━━━\u001b[0m\u001b[37m\u001b[0m \u001b[1m0s\u001b[0m 12ms/step - accuracy: 0.6996 - loss: 0.1801 - precision: 0.5488 - recall: 0.0701\n",
            "Epoch 6/10\n",
            "\u001b[1m22/22\u001b[0m \u001b[32m━━━━━━━━━━━━━━━━━━━━\u001b[0m\u001b[37m\u001b[0m \u001b[1m0s\u001b[0m 12ms/step - accuracy: 0.7005 - loss: 0.1123 - precision: 0.7027 - recall: 0.1428\n",
            "Epoch 7/10\n",
            "\u001b[1m22/22\u001b[0m \u001b[32m━━━━━━━━━━━━━━━━━━━━\u001b[0m\u001b[37m\u001b[0m \u001b[1m0s\u001b[0m 12ms/step - accuracy: 0.7117 - loss: 0.0838 - precision: 0.6840 - recall: 0.1031\n",
            "Epoch 8/10\n",
            "\u001b[1m22/22\u001b[0m \u001b[32m━━━━━━━━━━━━━━━━━━━━\u001b[0m\u001b[37m\u001b[0m \u001b[1m0s\u001b[0m 11ms/step - accuracy: 0.7418 - loss: 0.0938 - precision: 0.8258 - recall: 0.1427\n",
            "Epoch 9/10\n",
            "\u001b[1m22/22\u001b[0m \u001b[32m━━━━━━━━━━━━━━━━━━━━\u001b[0m\u001b[37m\u001b[0m \u001b[1m0s\u001b[0m 11ms/step - accuracy: 0.7151 - loss: 0.0664 - precision: 0.5135 - recall: 0.3586\n",
            "Epoch 10/10\n",
            "\u001b[1m22/22\u001b[0m \u001b[32m━━━━━━━━━━━━━━━━━━━━\u001b[0m\u001b[37m\u001b[0m \u001b[1m0s\u001b[0m 13ms/step - accuracy: 0.7248 - loss: 0.0762 - precision: 0.5840 - recall: 0.2685\n",
            "\u001b[1m10/10\u001b[0m \u001b[32m━━━━━━━━━━━━━━━━━━━━\u001b[0m\u001b[37m\u001b[0m \u001b[1m1s\u001b[0m 7ms/step - accuracy: 0.7265 - loss: 0.0671 - precision: 0.8197 - recall: 0.1549  \n"
          ]
        },
        {
          "data": {
            "text/plain": [
              "[0.0813322588801384,\n",
              " 0.7231833934783936,\n",
              " 0.7647058963775635,\n",
              " 0.14606741070747375]"
            ]
          },
          "execution_count": 51,
          "metadata": {},
          "output_type": "execute_result"
        }
      ],
      "source": [
        "model = tf.keras.Model(inputs=[input_layer, tabular_input], outputs=final_output)\n",
        "model.compile(optimizer='adam', loss=loss, metrics=metrics)\n",
        "model.fit([xtraincnn, xtraintab], ytrain, epochs= 10, class_weight=class_weights, callbacks=callbacks)\n",
        "model.evaluate([xtestcnn, xtesttab], ytest)"
      ]
    },
    {
      "cell_type": "code",
      "execution_count": null,
      "metadata": {
        "colab": {
          "base_uri": "https://localhost:8080/"
        },
        "collapsed": true,
        "id": "m7o4xJpC9Cf3",
        "outputId": "c029cb40-71d6-4dca-f5b1-45a985c78029"
      },
      "outputs": [
        {
          "name": "stdout",
          "output_type": "stream",
          "text": [
            "\u001b[1m10/10\u001b[0m \u001b[32m━━━━━━━━━━━━━━━━━━━━\u001b[0m\u001b[37m\u001b[0m \u001b[1m0s\u001b[0m 5ms/step \n",
            "Optimal threshold: 0.428\n"
          ]
        }
      ],
      "source": [
        "y_pred_probs = model.predict([xtestcnn, xtesttab])\n",
        "precisions, recalls, thresholds = precision_recall_curve(ytest, y_pred_probs)\n",
        "f1_scores = 2 * (precisions * recalls) / (precisions + recalls + 1e-8)\n",
        "optimal_idx = np.argmax(f1_scores)\n",
        "optimal_threshold = thresholds[optimal_idx]\n",
        "\n",
        "print(f\"Optimal threshold: {optimal_threshold:.3f}\")\n",
        "y_pred_optimized = (y_pred_probs > optimal_threshold).astype(int)"
      ]
    },
    {
      "cell_type": "code",
      "execution_count": 60,
      "metadata": {
        "colab": {
          "base_uri": "https://localhost:8080/"
        },
        "id": "ZDn_hftOytXg",
        "outputId": "8ed894c9-2483-470a-e5a0-4bf879bcf3d2"
      },
      "outputs": [
        {
          "name": "stdout",
          "output_type": "stream",
          "text": [
            "Accuracy: 0.7474048442906575\n",
            "Precision: 0.58\n",
            "Recall: 0.651685393258427\n",
            "F1 Score: 0.6137566137566137\n"
          ]
        }
      ],
      "source": [
        "print(\"Accuracy:\", accuracy_score(ytest, y_pred_optimized))\n",
        "print(\"Precision:\", precision_score(ytest, y_pred_optimized))\n",
        "print(\"Recall:\", recall_score(ytest, y_pred_optimized))\n",
        "print(\"F1 Score:\", f1_score(ytest, y_pred_optimized))"
      ]
    },
    {
      "cell_type": "code",
      "execution_count": 61,
      "metadata": {
        "colab": {
          "base_uri": "https://localhost:8080/",
          "height": 410
        },
        "id": "yAX_655XG08R",
        "outputId": "8dab92fb-03c3-4156-811e-394f23fab3b6"
      },
      "outputs": [
        {
          "data": {
            "image/png": "[encoded data removed]",
            "text/plain": [
              "<Figure size 500x400 with 2 Axes>"
            ]
          },
          "metadata": {},
          "output_type": "display_data"
        }
      ],
      "source": [
        "cm = confusion_matrix(ytest, y_pred_optimized)\n",
        "plt.figure(figsize=(5,4))\n",
        "sns.heatmap(cm, annot=True, fmt='d', cmap='Blues')\n",
        "plt.title('Confusion Matrix')\n",
        "plt.xlabel('Predicted')\n",
        "plt.ylabel('Actual')\n",
        "plt.show()"
      ]
    },
    {
      "cell_type": "code",
      "execution_count": 62,
      "metadata": {
        "colab": {
          "base_uri": "https://localhost:8080/",
          "height": 803
        },
        "id": "04-a06ESXHNT",
        "outputId": "246337a7-af92-40c7-b0f5-f05c52503a06"
      },
      "outputs": [
        {
          "data": {
            "image/png": "[encoded data removed]",
            "text/plain": [
              "<Figure size 500x400 with 2 Axes>"
            ]
          },
          "metadata": {},
          "output_type": "display_data"
        },
        {
          "data": {
            "image/png": "[encoded data removed]",
            "text/plain": [
              "<Figure size 500x400 with 2 Axes>"
            ]
          },
          "metadata": {},
          "output_type": "display_data"
        }
      ],
      "source": [
        "lr_model = LogisticRegression().fit(xtraintab, ytrain)\n",
        "xgb_model = XGBClassifier().fit(xtraintab, ytrain)\n",
        "ypredlr = lr_model.predict(xtesttab)\n",
        "ypredxgb = xgb_model.predict(xtesttab)\n",
        "\n",
        "cmlr = confusion_matrix(ytest, ypredlr)\n",
        "plt.figure(figsize=(5,4))\n",
        "sns.heatmap(cmlr, annot=True, fmt='d', cmap='Blues')\n",
        "plt.title('Confusion Matrix')\n",
        "plt.xlabel('Predicted')\n",
        "plt.ylabel('Actual')\n",
        "plt.show()\n",
        "\n",
        "cmxgb = confusion_matrix(ytest, ypredxgb)\n",
        "plt.figure(figsize=(5,4))\n",
        "sns.heatmap(cmxgb, annot=True, fmt='d', cmap='Blues')\n",
        "plt.title('Confusion Matrix')\n",
        "plt.xlabel('Predicted')\n",
        "plt.ylabel('Actual')\n",
        "plt.show()"
      ]
    }
  ],
  "metadata": {
    "colab": {
      "provenance": []
    },
    "kernelspec": {
      "display_name": "Python 3",
      "name": "python3"
    },
    "language_info": {
      "name": "python"
    }
  },
  "nbformat": 4,
  "nbformat_minor": 0
}
